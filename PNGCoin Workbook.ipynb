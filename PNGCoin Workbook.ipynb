{
 "cells": [
  {
   "cell_type": "markdown",
   "metadata": {},
   "source": [
    "[Here are the slides](https://docs.google.com/presentation/d/11uyJMpCyVceYlC50QUdVp3DJe42BLxW4CHykxIdR7AU/edit?usp=sharing)\n"
   ]
  },
  {
   "cell_type": "markdown",
   "metadata": {},
   "source": [
    "# Opening Images in Python\n",
    "\n",
    "How to use the Pillow library"
   ]
  },
  {
   "cell_type": "code",
   "execution_count": 2,
   "metadata": {},
   "outputs": [],
   "source": [
    "from PIL import Image\n",
    "# PIL = python image library\n",
    "\n",
    "img = Image.open(\"alice.png\")\n",
    "img.show()"
   ]
  },
  {
   "cell_type": "markdown",
   "metadata": {},
   "source": [
    "# Asking User to Verify a PNG Signature \n",
    "\n",
    "Requesting user input. Does the supplied signature photo make sense?"
   ]
  },
  {
   "cell_type": "code",
   "execution_count": 4,
   "metadata": {},
   "outputs": [],
   "source": [
    "def validate():\n",
    "    user_input = input(\"Is this a valid signature? (y/n)\")\n",
    "    if user_input.lower():\n",
    "        print(\"It's valid.\")\n",
    "    elif user_input.lower():\n",
    "        print(\"It's invalid.\")\n",
    "    else:\n",
    "        validate() # recursive if invalid input.\n",
    "\n",
    "def display_and_validate(filename):\n",
    "    img = Image.open(filename)\n",
    "    img.show()\n",
    "    validate()"
   ]
  },
  {
   "cell_type": "code",
   "execution_count": 5,
   "metadata": {},
   "outputs": [
    {
     "name": "stdout",
     "output_type": "stream",
     "text": [
      "Is this a valid signature? (y/n)y\n",
      "It's valid.\n"
     ]
    }
   ],
   "source": [
    "display_and_validate(\"alice.png\")"
   ]
  },
  {
   "cell_type": "markdown",
   "metadata": {},
   "source": [
    "# Defining the Coin\n",
    "\n",
    "Stupid-simple Python class"
   ]
  },
  {
   "cell_type": "code",
   "execution_count": 23,
   "metadata": {},
   "outputs": [],
   "source": [
    "class PNGCoin:\n",
    "    '''This represents transfers of ownership'''\n",
    "    def __init__(self, transfers): # dunder = __x__\n",
    "        self.transfers = transfers\n",
    "    # __init_, initializing the class instance, takes self(the raw class object, here PNGCoin, and modifies it as per init)"
   ]
  },
  {
   "cell_type": "markdown",
   "metadata": {},
   "source": [
    "# Validating a Coin\n",
    "\n",
    "Here we check every entry in PNGCoin.transfers"
   ]
  },
  {
   "cell_type": "code",
   "execution_count": 24,
   "metadata": {},
   "outputs": [],
   "source": [
    "coin = PNGCoin([\n",
    "    Image.open(\"alice.png\"),\n",
    "    Image.open(\"alice-to-bob.png\"),\n",
    "])"
   ]
  },
  {
   "cell_type": "code",
   "execution_count": null,
   "metadata": {},
   "outputs": [],
   "source": [
    "bad_coin = PNGCoin([\n",
    "    Image.open(\"alice.png\"),\n",
    "    Image.open(\"alice-to-bob-forged.png\"),\n",
    "])"
   ]
  },
  {
   "cell_type": "code",
   "execution_count": 38,
   "metadata": {},
   "outputs": [],
   "source": [
    "def handle_user_input(user_input):\n",
    "    if user_input.lower() == 'y':\n",
    "        return True\n",
    "    elif user_input.lower() == 'n':\n",
    "        return False\n",
    "    else:\n",
    "        user_input = input(\"Is this a valid signature? (y/n)\") #since recursion, get the input again\n",
    "        handle_user_input(user_input) # recursive if invalid input.\n",
    "\n",
    "# broke the function into 2 since you don't want to run for loop everytime user gives invalid input.\n",
    "\n",
    "def validate(coin):\n",
    "    for transfer in coin.transfers:\n",
    "        transfer.show()\n",
    "        user_input = input(\"Is this a valid signature? (y/n)\")\n",
    "        is_valid = handle_user_input(user_input)\n",
    "        if not is_valid:\n",
    "            return False\n",
    "    return True"
   ]
  },
  {
   "cell_type": "code",
   "execution_count": 42,
   "metadata": {},
   "outputs": [
    {
     "name": "stdout",
     "output_type": "stream",
     "text": [
      "Is this a valid signature? (y/n)y\n",
      "Is this a valid signature? (y/n)y\n"
     ]
    },
    {
     "data": {
      "text/plain": [
       "True"
      ]
     },
     "execution_count": 42,
     "metadata": {},
     "output_type": "execute_result"
    }
   ],
   "source": [
    "validate(coin)"
   ]
  },
  {
   "cell_type": "code",
   "execution_count": 27,
   "metadata": {},
   "outputs": [
    {
     "data": {
      "text/plain": [
       "[<PIL.PngImagePlugin.PngImageFile image mode=RGB size=651x797 at 0x7F7ECA0BC898>,\n",
       " <PIL.PngImagePlugin.PngImageFile image mode=RGB size=810x607 at 0x7F7ECA0BC978>]"
      ]
     },
     "execution_count": 27,
     "metadata": {},
     "output_type": "execute_result"
    }
   ],
   "source": [
    "coin.transfers"
   ]
  },
  {
   "cell_type": "code",
   "execution_count": 28,
   "metadata": {},
   "outputs": [],
   "source": [
    "coin.transfers[1].show()"
   ]
  },
  {
   "cell_type": "markdown",
   "metadata": {},
   "source": [
    "# Serializing Coins \n",
    "\n",
    "Let's take the coin defined ^^ and write it to disk"
   ]
  },
  {
   "cell_type": "code",
   "execution_count": 44,
   "metadata": {
    "scrolled": true
   },
   "outputs": [],
   "source": [
    "'''Serialization is putting data in a format that is easily transportable - binary format.'''\n",
    "import pickle\n",
    "\n",
    "def serialize(coin):\n",
    "    return pickle.dumps(coin)"
   ]
  },
  {
   "cell_type": "code",
   "execution_count": 45,
   "metadata": {},
   "outputs": [],
   "source": [
    "def to_disk(coin, filename):\n",
    "    '''Takes a coin and writes it to disk with the filename.'''\n",
    "    serialized = serialize(coin)\n",
    "    with open(filename, 'wb') as f: #with open is better as it opens the file in context manage and closes it  after finished working.\n",
    "        f.write(serialized)"
   ]
  },
  {
   "cell_type": "code",
   "execution_count": 46,
   "metadata": {},
   "outputs": [],
   "source": [
    "!ls | grep \"bobs.pngcoin\" #ls current dir & grep for the file > no result as doesn't exist."
   ]
  },
  {
   "cell_type": "code",
   "execution_count": 47,
   "metadata": {},
   "outputs": [],
   "source": [
    "to_disk(coin, \"bobs.pngcoin\") # we write the coin to 'bobs.pngcoin' file"
   ]
  },
  {
   "cell_type": "code",
   "execution_count": 48,
   "metadata": {},
   "outputs": [
    {
     "name": "stdout",
     "output_type": "stream",
     "text": [
      "bobs.pngcoin\r\n"
     ]
    }
   ],
   "source": [
    "!ls | grep \"bobs.pngcoin\" # we see the file/coin"
   ]
  },
  {
   "cell_type": "markdown",
   "metadata": {},
   "source": [
    "# Deserializing Coins\n",
    "\n",
    "Let's take the `bobs.pngcoin` file we created ^^ and read it back into Python"
   ]
  },
  {
   "cell_type": "code",
   "execution_count": 49,
   "metadata": {},
   "outputs": [],
   "source": [
    "'''deserialize = convert byte data to human readable data'''\n",
    "\n",
    "def deserialize(serialized):\n",
    "    return pickle.loads(serialized)"
   ]
  },
  {
   "cell_type": "code",
   "execution_count": 51,
   "metadata": {},
   "outputs": [
    {
     "data": {
      "text/plain": [
       "True"
      ]
     },
     "execution_count": 51,
     "metadata": {},
     "output_type": "execute_result"
    }
   ],
   "source": [
    "# checking if deserialize func works\n",
    "coin2 = deserialize(serialize(coin))\n",
    "coin2.transfers == coin.transfers"
   ]
  },
  {
   "cell_type": "code",
   "execution_count": 60,
   "metadata": {},
   "outputs": [],
   "source": [
    "def from_disk(filename):\n",
    "    with open(filename, 'rb') as f:\n",
    "        serialized = f.read()\n",
    "        return deserialize(serialized) # deserialized version of the coin, a python object"
   ]
  },
  {
   "cell_type": "code",
   "execution_count": 61,
   "metadata": {},
   "outputs": [
    {
     "data": {
      "text/plain": [
       "True"
      ]
     },
     "execution_count": 61,
     "metadata": {},
     "output_type": "execute_result"
    }
   ],
   "source": [
    "coin3 = from_disk(\"bobs.pngcoin\")\n",
    "\n",
    "coin3.transfers == coin.transfers"
   ]
  },
  {
   "cell_type": "markdown",
   "metadata": {},
   "source": [
    "# Using the Final Library\n",
    "\n",
    "I also wrote a [pngcoin.py](pngcoin.py) library that uses a more object-oriented design. Let's explore how it works:"
   ]
  },
  {
   "cell_type": "code",
   "execution_count": 66,
   "metadata": {},
   "outputs": [],
   "source": [
    "import pngcoin as pc"
   ]
  },
  {
   "cell_type": "code",
   "execution_count": 67,
   "metadata": {},
   "outputs": [],
   "source": [
    "coin = pc.PNGCoin([\n",
    "    Image.open(\"alice.png\"),\n",
    "    Image.open(\"alice-to-bob.png\"),\n",
    "])"
   ]
  },
  {
   "cell_type": "code",
   "execution_count": 70,
   "metadata": {},
   "outputs": [
    {
     "name": "stdout",
     "output_type": "stream",
     "text": [
      "Is this a valid minting signature? (y/n)y\n",
      "Is this a valid minting signature? (y/n)y\n"
     ]
    },
    {
     "data": {
      "text/plain": [
       "True"
      ]
     },
     "execution_count": 70,
     "metadata": {},
     "output_type": "execute_result"
    }
   ],
   "source": [
    "coin.validate()"
   ]
  },
  {
   "cell_type": "code",
   "execution_count": 71,
   "metadata": {},
   "outputs": [],
   "source": [
    "coin.to_disk(\"library-example.pngcoin\") # takes self & filename = self is implicit"
   ]
  },
  {
   "cell_type": "code",
   "execution_count": 75,
   "metadata": {},
   "outputs": [
    {
     "data": {
      "text/plain": [
       "<pngcoin.PNGCoin at 0x7f7ec8646198>"
      ]
     },
     "execution_count": 75,
     "metadata": {},
     "output_type": "execute_result"
    }
   ],
   "source": [
    "coin = pc.PNGCoin.from_disk(\"library-example.pngcoin\") # takes cls & filename, cls??\n",
    "coin"
   ]
  },
  {
   "cell_type": "code",
   "execution_count": 76,
   "metadata": {},
   "outputs": [
    {
     "name": "stdout",
     "output_type": "stream",
     "text": [
      "Is this a valid minting signature? (y/n)y\n",
      "Is this a valid minting signature? (y/n)y\n"
     ]
    },
    {
     "data": {
      "text/plain": [
       "True"
      ]
     },
     "execution_count": 76,
     "metadata": {},
     "output_type": "execute_result"
    }
   ],
   "source": [
    "coin.validate()"
   ]
  }
 ],
 "metadata": {
  "kernelspec": {
   "display_name": "Python 3",
   "language": "python",
   "name": "python3"
  },
  "language_info": {
   "codemirror_mode": {
    "name": "ipython",
    "version": 3
   },
   "file_extension": ".py",
   "mimetype": "text/x-python",
   "name": "python",
   "nbconvert_exporter": "python",
   "pygments_lexer": "ipython3",
   "version": "3.7.3"
  }
 },
 "nbformat": 4,
 "nbformat_minor": 2
}
